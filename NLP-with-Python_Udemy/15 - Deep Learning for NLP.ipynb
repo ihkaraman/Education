{
 "cells": [
  {
   "cell_type": "code",
   "execution_count": 1,
   "metadata": {},
   "outputs": [],
   "source": [
    "import pandas as pd\n",
    "import numpy as np"
   ]
  },
  {
   "cell_type": "code",
   "execution_count": 2,
   "metadata": {},
   "outputs": [
    {
     "name": "stdout",
     "output_type": "stream",
     "text": [
      ".. _iris_dataset:\n",
      "\n",
      "Iris plants dataset\n",
      "--------------------\n",
      "\n",
      "**Data Set Characteristics:**\n",
      "\n",
      "    :Number of Instances: 150 (50 in each of three classes)\n",
      "    :Number of Attributes: 4 numeric, predictive attributes and the class\n",
      "    :Attribute Information:\n",
      "        - sepal length in cm\n",
      "        - sepal width in cm\n",
      "        - petal length in cm\n",
      "        - petal width in cm\n",
      "        - class:\n",
      "                - Iris-Setosa\n",
      "                - Iris-Versicolour\n",
      "                - Iris-Virginica\n",
      "                \n",
      "    :Summary Statistics:\n",
      "\n",
      "    ============== ==== ==== ======= ===== ====================\n",
      "                    Min  Max   Mean    SD   Class Correlation\n",
      "    ============== ==== ==== ======= ===== ====================\n",
      "    sepal length:   4.3  7.9   5.84   0.83    0.7826\n",
      "    sepal width:    2.0  4.4   3.05   0.43   -0.4194\n",
      "    petal length:   1.0  6.9   3.76   1.76    0.9490  (high!)\n",
      "    petal width:    0.1  2.5   1.20   0.76    0.9565  (high!)\n",
      "    ============== ==== ==== ======= ===== ====================\n",
      "\n",
      "    :Missing Attribute Values: None\n",
      "    :Class Distribution: 33.3% for each of 3 classes.\n",
      "    :Creator: R.A. Fisher\n",
      "    :Donor: Michael Marshall (MARSHALL%PLU@io.arc.nasa.gov)\n",
      "    :Date: July, 1988\n",
      "\n",
      "The famous Iris database, first used by Sir R.A. Fisher. The dataset is taken\n",
      "from Fisher's paper. Note that it's the same as in R, but not as in the UCI\n",
      "Machine Learning Repository, which has two wrong data points.\n",
      "\n",
      "This is perhaps the best known database to be found in the\n",
      "pattern recognition literature.  Fisher's paper is a classic in the field and\n",
      "is referenced frequently to this day.  (See Duda & Hart, for example.)  The\n",
      "data set contains 3 classes of 50 instances each, where each class refers to a\n",
      "type of iris plant.  One class is linearly separable from the other 2; the\n",
      "latter are NOT linearly separable from each other.\n",
      "\n",
      ".. topic:: References\n",
      "\n",
      "   - Fisher, R.A. \"The use of multiple measurements in taxonomic problems\"\n",
      "     Annual Eugenics, 7, Part II, 179-188 (1936); also in \"Contributions to\n",
      "     Mathematical Statistics\" (John Wiley, NY, 1950).\n",
      "   - Duda, R.O., & Hart, P.E. (1973) Pattern Classification and Scene Analysis.\n",
      "     (Q327.D83) John Wiley & Sons.  ISBN 0-471-22361-1.  See page 218.\n",
      "   - Dasarathy, B.V. (1980) \"Nosing Around the Neighborhood: A New System\n",
      "     Structure and Classification Rule for Recognition in Partially Exposed\n",
      "     Environments\".  IEEE Transactions on Pattern Analysis and Machine\n",
      "     Intelligence, Vol. PAMI-2, No. 1, 67-71.\n",
      "   - Gates, G.W. (1972) \"The Reduced Nearest Neighbor Rule\".  IEEE Transactions\n",
      "     on Information Theory, May 1972, 431-433.\n",
      "   - See also: 1988 MLC Proceedings, 54-64.  Cheeseman et al\"s AUTOCLASS II\n",
      "     conceptual clustering system finds 3 classes in the data.\n",
      "   - Many, many more ...\n"
     ]
    }
   ],
   "source": [
    "# loading iris dataset from sklearn\n",
    "from sklearn.datasets import load_iris\n",
    "iris = load_iris()\n",
    "print(iris.DESCR)"
   ]
  },
  {
   "cell_type": "code",
   "execution_count": 3,
   "metadata": {},
   "outputs": [],
   "source": [
    "X = iris.data\n",
    "y = iris.target"
   ]
  },
  {
   "cell_type": "code",
   "execution_count": 4,
   "metadata": {},
   "outputs": [
    {
     "data": {
      "text/plain": [
       "(array([[5.1, 3.5, 1.4, 0.2],\n",
       "        [4.9, 3. , 1.4, 0.2],\n",
       "        [4.7, 3.2, 1.3, 0.2]]),\n",
       " array([0, 0, 0]))"
      ]
     },
     "execution_count": 4,
     "metadata": {},
     "output_type": "execute_result"
    }
   ],
   "source": [
    "X[0:3], y[0:3]"
   ]
  },
  {
   "cell_type": "code",
   "execution_count": 5,
   "metadata": {},
   "outputs": [
    {
     "data": {
      "text/plain": [
       "(150, 3)"
      ]
     },
     "execution_count": 5,
     "metadata": {},
     "output_type": "execute_result"
    }
   ],
   "source": [
    "# one hot encoding with keras\n",
    "from keras.utils import to_categorical\n",
    "y = to_categorical(y)\n",
    "y.shape"
   ]
  },
  {
   "cell_type": "code",
   "execution_count": 6,
   "metadata": {},
   "outputs": [],
   "source": [
    "# train test split\n",
    "from sklearn.model_selection import train_test_split\n",
    "X_train, X_test, y_train, y_test = train_test_split(X, y, test_size = 0.33, random_state=42)"
   ]
  },
  {
   "cell_type": "code",
   "execution_count": 7,
   "metadata": {},
   "outputs": [],
   "source": [
    "# scaling the features into [0,1] interval with MinMaxScaler\n",
    "# fitting the model with only train data and transforming both train and test data with training parameters\n",
    "from sklearn.preprocessing import MinMaxScaler\n",
    "scaler = MinMaxScaler()\n",
    "scaler.fit(X_train)\n",
    "scaled_X_train = scaler.transform(X_train)\n",
    "scaled_X_test = scaler.transform(X_test)"
   ]
  },
  {
   "cell_type": "code",
   "execution_count": 8,
   "metadata": {},
   "outputs": [
    {
     "name": "stdout",
     "output_type": "stream",
     "text": [
      "Model: \"sequential\"\n",
      "_________________________________________________________________\n",
      "Layer (type)                 Output Shape              Param #   \n",
      "=================================================================\n",
      "dense (Dense)                (None, 8)                 40        \n",
      "_________________________________________________________________\n",
      "dense_1 (Dense)              (None, 8)                 72        \n",
      "_________________________________________________________________\n",
      "dense_2 (Dense)              (None, 3)                 27        \n",
      "=================================================================\n",
      "Total params: 139\n",
      "Trainable params: 139\n",
      "Non-trainable params: 0\n",
      "_________________________________________________________________\n"
     ]
    }
   ],
   "source": [
    "# creating an ANN model with 2 hidden layers\n",
    "from keras.models import Sequential\n",
    "from keras.layers import Dense\n",
    "\n",
    "model = Sequential()\n",
    "model.add(Dense(8, input_dim=4, activation='relu')) # layer 1\n",
    "model.add(Dense(8, input_dim=4, activation='relu')) # layer 2\n",
    "model.add(Dense(3, activation='softmax')) # output layer\n",
    "model.compile(loss='categorical_crossentropy', optimizer='adam', metrics=['accuracy'])\n",
    "\n",
    "model.summary()"
   ]
  },
  {
   "cell_type": "code",
   "execution_count": 9,
   "metadata": {},
   "outputs": [
    {
     "name": "stdout",
     "output_type": "stream",
     "text": [
      "Epoch 1/150\n",
      "4/4 - 0s - loss: 1.0958 - accuracy: 0.3400\n",
      "Epoch 2/150\n",
      "4/4 - 0s - loss: 1.0911 - accuracy: 0.3400\n",
      "Epoch 3/150\n",
      "4/4 - 0s - loss: 1.0878 - accuracy: 0.4700\n",
      "Epoch 4/150\n",
      "4/4 - 0s - loss: 1.0855 - accuracy: 0.4500\n",
      "Epoch 5/150\n",
      "4/4 - 0s - loss: 1.0833 - accuracy: 0.4900\n",
      "Epoch 6/150\n",
      "4/4 - 0s - loss: 1.0811 - accuracy: 0.5400\n",
      "Epoch 7/150\n",
      "4/4 - 0s - loss: 1.0792 - accuracy: 0.5600\n",
      "Epoch 8/150\n",
      "4/4 - 0s - loss: 1.0770 - accuracy: 0.5900\n",
      "Epoch 9/150\n",
      "4/4 - 0s - loss: 1.0747 - accuracy: 0.6100\n",
      "Epoch 10/150\n",
      "4/4 - 0s - loss: 1.0723 - accuracy: 0.6100\n",
      "Epoch 11/150\n",
      "4/4 - 0s - loss: 1.0696 - accuracy: 0.6100\n",
      "Epoch 12/150\n",
      "4/4 - 0s - loss: 1.0669 - accuracy: 0.6200\n",
      "Epoch 13/150\n",
      "4/4 - 0s - loss: 1.0638 - accuracy: 0.6300\n",
      "Epoch 14/150\n",
      "4/4 - 0s - loss: 1.0607 - accuracy: 0.6400\n",
      "Epoch 15/150\n",
      "4/4 - 0s - loss: 1.0573 - accuracy: 0.6400\n",
      "Epoch 16/150\n",
      "4/4 - 0s - loss: 1.0540 - accuracy: 0.6400\n",
      "Epoch 17/150\n",
      "4/4 - 0s - loss: 1.0504 - accuracy: 0.6500\n",
      "Epoch 18/150\n",
      "4/4 - 0s - loss: 1.0466 - accuracy: 0.6500\n",
      "Epoch 19/150\n",
      "4/4 - 0s - loss: 1.0427 - accuracy: 0.6500\n",
      "Epoch 20/150\n",
      "4/4 - 0s - loss: 1.0385 - accuracy: 0.6500\n",
      "Epoch 21/150\n",
      "4/4 - 0s - loss: 1.0340 - accuracy: 0.6500\n",
      "Epoch 22/150\n",
      "4/4 - 0s - loss: 1.0295 - accuracy: 0.6500\n",
      "Epoch 23/150\n",
      "4/4 - 0s - loss: 1.0246 - accuracy: 0.6500\n",
      "Epoch 24/150\n",
      "4/4 - 0s - loss: 1.0193 - accuracy: 0.6500\n",
      "Epoch 25/150\n",
      "4/4 - 0s - loss: 1.0138 - accuracy: 0.6500\n",
      "Epoch 26/150\n",
      "4/4 - 0s - loss: 1.0080 - accuracy: 0.6500\n",
      "Epoch 27/150\n",
      "4/4 - 0s - loss: 1.0024 - accuracy: 0.6500\n",
      "Epoch 28/150\n",
      "4/4 - 0s - loss: 0.9962 - accuracy: 0.6500\n",
      "Epoch 29/150\n",
      "4/4 - 0s - loss: 0.9898 - accuracy: 0.6500\n",
      "Epoch 30/150\n",
      "4/4 - 0s - loss: 0.9827 - accuracy: 0.6500\n",
      "Epoch 31/150\n",
      "4/4 - 0s - loss: 0.9751 - accuracy: 0.6500\n",
      "Epoch 32/150\n",
      "4/4 - 0s - loss: 0.9671 - accuracy: 0.6500\n",
      "Epoch 33/150\n",
      "4/4 - 0s - loss: 0.9582 - accuracy: 0.6500\n",
      "Epoch 34/150\n",
      "4/4 - 0s - loss: 0.9492 - accuracy: 0.6500\n",
      "Epoch 35/150\n",
      "4/4 - 0s - loss: 0.9401 - accuracy: 0.6500\n",
      "Epoch 36/150\n",
      "4/4 - 0s - loss: 0.9309 - accuracy: 0.6500\n",
      "Epoch 37/150\n",
      "4/4 - 0s - loss: 0.9216 - accuracy: 0.6500\n",
      "Epoch 38/150\n",
      "4/4 - 0s - loss: 0.9126 - accuracy: 0.6500\n",
      "Epoch 39/150\n",
      "4/4 - 0s - loss: 0.9032 - accuracy: 0.6500\n",
      "Epoch 40/150\n",
      "4/4 - 0s - loss: 0.8940 - accuracy: 0.6500\n",
      "Epoch 41/150\n",
      "4/4 - 0s - loss: 0.8850 - accuracy: 0.6500\n",
      "Epoch 42/150\n",
      "4/4 - 0s - loss: 0.8753 - accuracy: 0.6500\n",
      "Epoch 43/150\n",
      "4/4 - 0s - loss: 0.8661 - accuracy: 0.6500\n",
      "Epoch 44/150\n",
      "4/4 - 0s - loss: 0.8560 - accuracy: 0.6500\n",
      "Epoch 45/150\n",
      "4/4 - 0s - loss: 0.8461 - accuracy: 0.6500\n",
      "Epoch 46/150\n",
      "4/4 - 0s - loss: 0.8364 - accuracy: 0.6500\n",
      "Epoch 47/150\n",
      "4/4 - 0s - loss: 0.8269 - accuracy: 0.6500\n",
      "Epoch 48/150\n",
      "4/4 - 0s - loss: 0.8168 - accuracy: 0.6500\n",
      "Epoch 49/150\n",
      "4/4 - 0s - loss: 0.8072 - accuracy: 0.6500\n",
      "Epoch 50/150\n",
      "4/4 - 0s - loss: 0.7982 - accuracy: 0.6500\n",
      "Epoch 51/150\n",
      "4/4 - 0s - loss: 0.7880 - accuracy: 0.6500\n",
      "Epoch 52/150\n",
      "4/4 - 0s - loss: 0.7783 - accuracy: 0.6500\n",
      "Epoch 53/150\n",
      "4/4 - 0s - loss: 0.7683 - accuracy: 0.6500\n",
      "Epoch 54/150\n",
      "4/4 - 0s - loss: 0.7581 - accuracy: 0.6500\n",
      "Epoch 55/150\n",
      "4/4 - 0s - loss: 0.7479 - accuracy: 0.6500\n",
      "Epoch 56/150\n",
      "4/4 - 0s - loss: 0.7385 - accuracy: 0.6500\n",
      "Epoch 57/150\n",
      "4/4 - 0s - loss: 0.7291 - accuracy: 0.6500\n",
      "Epoch 58/150\n",
      "4/4 - 0s - loss: 0.7206 - accuracy: 0.6500\n",
      "Epoch 59/150\n",
      "4/4 - 0s - loss: 0.7118 - accuracy: 0.6500\n",
      "Epoch 60/150\n",
      "4/4 - 0s - loss: 0.7032 - accuracy: 0.6500\n",
      "Epoch 61/150\n",
      "4/4 - 0s - loss: 0.6942 - accuracy: 0.6500\n",
      "Epoch 62/150\n",
      "4/4 - 0s - loss: 0.6858 - accuracy: 0.6500\n",
      "Epoch 63/150\n",
      "4/4 - 0s - loss: 0.6765 - accuracy: 0.6500\n",
      "Epoch 64/150\n",
      "4/4 - 0s - loss: 0.6678 - accuracy: 0.6500\n",
      "Epoch 65/150\n",
      "4/4 - 0s - loss: 0.6597 - accuracy: 0.6500\n",
      "Epoch 66/150\n",
      "4/4 - 0s - loss: 0.6519 - accuracy: 0.6600\n",
      "Epoch 67/150\n",
      "4/4 - 0s - loss: 0.6440 - accuracy: 0.6600\n",
      "Epoch 68/150\n",
      "4/4 - 0s - loss: 0.6364 - accuracy: 0.6600\n",
      "Epoch 69/150\n",
      "4/4 - 0s - loss: 0.6283 - accuracy: 0.6500\n",
      "Epoch 70/150\n",
      "4/4 - 0s - loss: 0.6211 - accuracy: 0.6500\n",
      "Epoch 71/150\n",
      "4/4 - 0s - loss: 0.6140 - accuracy: 0.6600\n",
      "Epoch 72/150\n",
      "4/4 - 0s - loss: 0.6069 - accuracy: 0.6600\n",
      "Epoch 73/150\n",
      "4/4 - 0s - loss: 0.6002 - accuracy: 0.6800\n",
      "Epoch 74/150\n",
      "4/4 - 0s - loss: 0.5933 - accuracy: 0.6700\n",
      "Epoch 75/150\n",
      "4/4 - 0s - loss: 0.5864 - accuracy: 0.6800\n",
      "Epoch 76/150\n",
      "4/4 - 0s - loss: 0.5797 - accuracy: 0.7000\n",
      "Epoch 77/150\n",
      "4/4 - 0s - loss: 0.5736 - accuracy: 0.7000\n",
      "Epoch 78/150\n",
      "4/4 - 0s - loss: 0.5672 - accuracy: 0.7000\n",
      "Epoch 79/150\n",
      "4/4 - 0s - loss: 0.5615 - accuracy: 0.7000\n",
      "Epoch 80/150\n",
      "4/4 - 0s - loss: 0.5555 - accuracy: 0.7000\n",
      "Epoch 81/150\n",
      "4/4 - 0s - loss: 0.5505 - accuracy: 0.7000\n",
      "Epoch 82/150\n",
      "4/4 - 0s - loss: 0.5450 - accuracy: 0.7000\n",
      "Epoch 83/150\n",
      "4/4 - 0s - loss: 0.5402 - accuracy: 0.7000\n",
      "Epoch 84/150\n",
      "4/4 - 0s - loss: 0.5350 - accuracy: 0.7000\n",
      "Epoch 85/150\n",
      "4/4 - 0s - loss: 0.5304 - accuracy: 0.7100\n",
      "Epoch 86/150\n",
      "4/4 - 0s - loss: 0.5259 - accuracy: 0.7200\n",
      "Epoch 87/150\n",
      "4/4 - 0s - loss: 0.5213 - accuracy: 0.7200\n",
      "Epoch 88/150\n",
      "4/4 - 0s - loss: 0.5172 - accuracy: 0.7600\n",
      "Epoch 89/150\n",
      "4/4 - 0s - loss: 0.5128 - accuracy: 0.7700\n",
      "Epoch 90/150\n",
      "4/4 - 0s - loss: 0.5086 - accuracy: 0.7900\n",
      "Epoch 91/150\n",
      "4/4 - 0s - loss: 0.5050 - accuracy: 0.8100\n",
      "Epoch 92/150\n",
      "4/4 - 0s - loss: 0.5016 - accuracy: 0.8300\n",
      "Epoch 93/150\n",
      "4/4 - 0s - loss: 0.4974 - accuracy: 0.8400\n",
      "Epoch 94/150\n",
      "4/4 - 0s - loss: 0.4933 - accuracy: 0.8300\n",
      "Epoch 95/150\n",
      "4/4 - 0s - loss: 0.4896 - accuracy: 0.8300\n",
      "Epoch 96/150\n",
      "4/4 - 0s - loss: 0.4861 - accuracy: 0.8300\n",
      "Epoch 97/150\n",
      "4/4 - 0s - loss: 0.4825 - accuracy: 0.8400\n",
      "Epoch 98/150\n",
      "4/4 - 0s - loss: 0.4790 - accuracy: 0.8300\n",
      "Epoch 99/150\n",
      "4/4 - 0s - loss: 0.4756 - accuracy: 0.8100\n",
      "Epoch 100/150\n",
      "4/4 - 0s - loss: 0.4723 - accuracy: 0.8100\n",
      "Epoch 101/150\n",
      "4/4 - 0s - loss: 0.4693 - accuracy: 0.8500\n",
      "Epoch 102/150\n",
      "4/4 - 0s - loss: 0.4661 - accuracy: 0.8800\n",
      "Epoch 103/150\n",
      "4/4 - 0s - loss: 0.4642 - accuracy: 0.9300\n",
      "Epoch 104/150\n",
      "4/4 - 0s - loss: 0.4617 - accuracy: 0.9300\n",
      "Epoch 105/150\n",
      "4/4 - 0s - loss: 0.4587 - accuracy: 0.9300\n",
      "Epoch 106/150\n",
      "4/4 - 0s - loss: 0.4558 - accuracy: 0.9300\n",
      "Epoch 107/150\n",
      "4/4 - 0s - loss: 0.4533 - accuracy: 0.9300\n",
      "Epoch 108/150\n",
      "4/4 - 0s - loss: 0.4505 - accuracy: 0.9300\n",
      "Epoch 109/150\n",
      "4/4 - 0s - loss: 0.4468 - accuracy: 0.9300\n",
      "Epoch 110/150\n",
      "4/4 - 0s - loss: 0.4433 - accuracy: 0.9100\n",
      "Epoch 111/150\n",
      "4/4 - 0s - loss: 0.4411 - accuracy: 0.8700\n",
      "Epoch 112/150\n",
      "4/4 - 0s - loss: 0.4393 - accuracy: 0.8300\n",
      "Epoch 113/150\n",
      "4/4 - 0s - loss: 0.4370 - accuracy: 0.8100\n",
      "Epoch 114/150\n",
      "4/4 - 0s - loss: 0.4347 - accuracy: 0.8100\n",
      "Epoch 115/150\n",
      "4/4 - 0s - loss: 0.4322 - accuracy: 0.8100\n",
      "Epoch 116/150\n",
      "4/4 - 0s - loss: 0.4292 - accuracy: 0.8800\n",
      "Epoch 117/150\n",
      "4/4 - 0s - loss: 0.4264 - accuracy: 0.9000\n",
      "Epoch 118/150\n",
      "4/4 - 0s - loss: 0.4248 - accuracy: 0.9300\n",
      "Epoch 119/150\n",
      "4/4 - 0s - loss: 0.4225 - accuracy: 0.9300\n",
      "Epoch 120/150\n",
      "4/4 - 0s - loss: 0.4209 - accuracy: 0.9300\n",
      "Epoch 121/150\n",
      "4/4 - 0s - loss: 0.4188 - accuracy: 0.9300\n",
      "Epoch 122/150\n",
      "4/4 - 0s - loss: 0.4167 - accuracy: 0.9300\n",
      "Epoch 123/150\n",
      "4/4 - 0s - loss: 0.4153 - accuracy: 0.9400\n",
      "Epoch 124/150\n",
      "4/4 - 0s - loss: 0.4126 - accuracy: 0.9400\n",
      "Epoch 125/150\n",
      "4/4 - 0s - loss: 0.4102 - accuracy: 0.9300\n",
      "Epoch 126/150\n",
      "4/4 - 0s - loss: 0.4071 - accuracy: 0.9300\n",
      "Epoch 127/150\n",
      "4/4 - 0s - loss: 0.4045 - accuracy: 0.9300\n",
      "Epoch 128/150\n",
      "4/4 - 0s - loss: 0.4027 - accuracy: 0.9200\n",
      "Epoch 129/150\n",
      "4/4 - 0s - loss: 0.4006 - accuracy: 0.9200\n",
      "Epoch 130/150\n",
      "4/4 - 0s - loss: 0.3994 - accuracy: 0.9000\n",
      "Epoch 131/150\n",
      "4/4 - 0s - loss: 0.3973 - accuracy: 0.9000\n",
      "Epoch 132/150\n",
      "4/4 - 0s - loss: 0.3949 - accuracy: 0.9000\n",
      "Epoch 133/150\n",
      "4/4 - 0s - loss: 0.3929 - accuracy: 0.9000\n",
      "Epoch 134/150\n",
      "4/4 - 0s - loss: 0.3905 - accuracy: 0.9200\n",
      "Epoch 135/150\n",
      "4/4 - 0s - loss: 0.3884 - accuracy: 0.9200\n",
      "Epoch 136/150\n",
      "4/4 - 0s - loss: 0.3865 - accuracy: 0.9200\n",
      "Epoch 137/150\n",
      "4/4 - 0s - loss: 0.3845 - accuracy: 0.9200\n",
      "Epoch 138/150\n",
      "4/4 - 0s - loss: 0.3823 - accuracy: 0.9300\n",
      "Epoch 139/150\n",
      "4/4 - 0s - loss: 0.3802 - accuracy: 0.9300\n",
      "Epoch 140/150\n",
      "4/4 - 0s - loss: 0.3783 - accuracy: 0.9300\n",
      "Epoch 141/150\n",
      "4/4 - 0s - loss: 0.3765 - accuracy: 0.9300\n",
      "Epoch 142/150\n",
      "4/4 - 0s - loss: 0.3759 - accuracy: 0.9100\n",
      "Epoch 143/150\n",
      "4/4 - 0s - loss: 0.3746 - accuracy: 0.9100\n",
      "Epoch 144/150\n",
      "4/4 - 0s - loss: 0.3735 - accuracy: 0.9000\n",
      "Epoch 145/150\n",
      "4/4 - 0s - loss: 0.3723 - accuracy: 0.8900\n",
      "Epoch 146/150\n",
      "4/4 - 0s - loss: 0.3699 - accuracy: 0.9000\n"
     ]
    },
    {
     "name": "stdout",
     "output_type": "stream",
     "text": [
      "Epoch 147/150\n",
      "4/4 - 0s - loss: 0.3672 - accuracy: 0.9200\n",
      "Epoch 148/150\n",
      "4/4 - 0s - loss: 0.3646 - accuracy: 0.9200\n",
      "Epoch 149/150\n",
      "4/4 - 0s - loss: 0.3612 - accuracy: 0.9300\n",
      "Epoch 150/150\n",
      "4/4 - 0s - loss: 0.3591 - accuracy: 0.9300\n"
     ]
    },
    {
     "data": {
      "text/plain": [
       "<tensorflow.python.keras.callbacks.History at 0x264755367f0>"
      ]
     },
     "execution_count": 9,
     "metadata": {},
     "output_type": "execute_result"
    }
   ],
   "source": [
    "# fitting the model\n",
    "model.fit(scaled_X_train, y_train, epochs=150, verbose=2) # verbose: level of the reporting detail"
   ]
  },
  {
   "cell_type": "code",
   "execution_count": 10,
   "metadata": {},
   "outputs": [
    {
     "data": {
      "text/plain": [
       "array([[2.72369031e-02, 5.54528832e-01, 4.18234229e-01],\n",
       "       [9.75624859e-01, 2.31313575e-02, 1.24379760e-03],\n",
       "       [2.97618302e-04, 1.70314401e-01, 8.29388022e-01],\n",
       "       [1.66967753e-02, 5.06631434e-01, 4.76671815e-01],\n",
       "       [1.36488788e-02, 4.85392183e-01, 5.00958979e-01],\n",
       "       [9.60569024e-01, 3.68064679e-02, 2.62448471e-03],\n",
       "       [5.77227958e-02, 6.05688095e-01, 3.36589158e-01],\n",
       "       [1.39229093e-03, 2.72371560e-01, 7.26236105e-01],\n",
       "       [7.89148174e-03, 3.58895093e-01, 6.33213401e-01],\n",
       "       [4.22794446e-02, 5.83666444e-01, 3.74054104e-01],\n",
       "       [3.85246868e-03, 3.76388580e-01, 6.19758964e-01],\n",
       "       [9.57913578e-01, 3.89530137e-02, 3.13344132e-03],\n",
       "       [9.72872674e-01, 2.56035980e-02, 1.52383791e-03],\n",
       "       [9.62504864e-01, 3.48838903e-02, 2.61119055e-03],\n",
       "       [9.78479564e-01, 2.04177499e-02, 1.10268593e-03],\n",
       "       [1.57443322e-02, 5.45047402e-01, 4.39208180e-01],\n",
       "       [1.09987310e-03, 2.43668616e-01, 7.55231440e-01],\n",
       "       [4.67415750e-02, 5.71321905e-01, 3.81936550e-01],\n",
       "       [2.62733288e-02, 5.44203043e-01, 4.29523587e-01],\n",
       "       [1.01920601e-03, 2.23525003e-01, 7.75455832e-01],\n",
       "       [9.63662088e-01, 3.37930247e-02, 2.54493766e-03],\n",
       "       [6.56512240e-03, 4.11308676e-01, 5.82126260e-01],\n",
       "       [9.62226748e-01, 3.52363251e-02, 2.53691082e-03],\n",
       "       [1.35360530e-03, 2.45788768e-01, 7.52857625e-01],\n",
       "       [2.27701664e-03, 3.95049483e-01, 6.02673411e-01],\n",
       "       [1.20782969e-03, 2.51577467e-01, 7.47214675e-01],\n",
       "       [1.79415720e-03, 2.52093285e-01, 7.46112585e-01],\n",
       "       [9.16281191e-04, 2.45134115e-01, 7.53949642e-01],\n",
       "       [9.48402643e-01, 4.74702753e-02, 4.12704423e-03],\n",
       "       [9.59911942e-01, 3.71730551e-02, 2.91501218e-03],\n",
       "       [9.75593984e-01, 2.30178256e-02, 1.38820405e-03],\n",
       "       [9.87238705e-01, 1.22947525e-02, 4.66476398e-04],\n",
       "       [2.33478080e-02, 5.74509740e-01, 4.02142465e-01],\n",
       "       [9.70188439e-01, 2.79410109e-02, 1.87055697e-03],\n",
       "       [9.63825047e-01, 3.35818194e-02, 2.59312754e-03],\n",
       "       [2.58968631e-03, 2.77490824e-01, 7.19919443e-01],\n",
       "       [2.01818720e-02, 5.64304411e-01, 4.15513694e-01],\n",
       "       [9.73077238e-01, 2.53934246e-02, 1.52928568e-03],\n",
       "       [9.75659490e-01, 2.29992941e-02, 1.34126621e-03],\n",
       "       [9.86170292e-01, 1.32683460e-02, 5.61365334e-04],\n",
       "       [3.39805358e-03, 3.13025773e-01, 6.83576167e-01],\n",
       "       [2.33817343e-02, 5.78149796e-01, 3.98468524e-01],\n",
       "       [1.53700197e-02, 5.27604580e-01, 4.57025379e-01],\n",
       "       [9.79122996e-01, 1.98671687e-02, 1.00981200e-03],\n",
       "       [9.77921784e-01, 2.09694095e-02, 1.10891962e-03],\n",
       "       [6.15158379e-02, 5.84806859e-01, 3.53677243e-01],\n",
       "       [9.76808928e-03, 4.40964878e-01, 5.49266994e-01],\n",
       "       [4.61434806e-03, 3.87293637e-01, 6.08091950e-01],\n",
       "       [2.18310580e-02, 5.55512905e-01, 4.22656119e-01],\n",
       "       [6.65270258e-04, 2.49927834e-01, 7.49406934e-01]], dtype=float32)"
      ]
     },
     "execution_count": 10,
     "metadata": {},
     "output_type": "execute_result"
    }
   ],
   "source": [
    "# predicting probability outputs\n",
    "model.predict(scaled_X_test)"
   ]
  },
  {
   "cell_type": "code",
   "execution_count": 11,
   "metadata": {},
   "outputs": [
    {
     "data": {
      "text/plain": [
       "array([1, 0, 2, 1, 2, 0, 1, 2, 2, 1, 2, 0, 0, 0, 0, 1, 2, 1, 1, 2, 0, 2,\n",
       "       0, 2, 2, 2, 2, 2, 0, 0, 0, 0, 1, 0, 0, 2, 1, 0, 0, 0, 2, 1, 1, 0,\n",
       "       0, 1, 2, 2, 1, 2], dtype=int64)"
      ]
     },
     "execution_count": 11,
     "metadata": {},
     "output_type": "execute_result"
    }
   ],
   "source": [
    "# predicting class outputs\n",
    "y_pred = np.argmax(model.predict(scaled_X_test), axis=-1)\n",
    "y_pred"
   ]
  },
  {
   "cell_type": "code",
   "execution_count": 12,
   "metadata": {
    "scrolled": true
   },
   "outputs": [
    {
     "name": "stdout",
     "output_type": "stream",
     "text": [
      "Accuracy score \n",
      "0.96\n",
      "------ \n",
      "Confusion matrix \n",
      "[[19  0  0]\n",
      " [ 0 13  0]\n",
      " [ 0  2 16]]\n",
      "------ \n",
      "Classification report \n",
      "              precision    recall  f1-score   support\n",
      "\n",
      "           0       1.00      1.00      1.00        19\n",
      "           1       0.87      1.00      0.93        13\n",
      "           2       1.00      0.89      0.94        18\n",
      "\n",
      "    accuracy                           0.96        50\n",
      "   macro avg       0.96      0.96      0.96        50\n",
      "weighted avg       0.97      0.96      0.96        50\n",
      "\n"
     ]
    }
   ],
   "source": [
    "from sklearn.metrics import classification_report, accuracy_score, confusion_matrix\n",
    "print('Accuracy score ')\n",
    "print(accuracy_score(y_pred, y_test.argmax(axis=1)))\n",
    "print('------ ')\n",
    "print('Confusion matrix ')\n",
    "print(confusion_matrix(y_pred, y_test.argmax(axis=1)))\n",
    "print('------ ')\n",
    "print('Classification report ')\n",
    "print(classification_report(y_pred, y_test.argmax(axis=1)))"
   ]
  },
  {
   "cell_type": "code",
   "execution_count": 13,
   "metadata": {},
   "outputs": [
    {
     "data": {
      "text/plain": [
       "['loss', 'accuracy']"
      ]
     },
     "execution_count": 13,
     "metadata": {},
     "output_type": "execute_result"
    }
   ],
   "source": [
    "model.metrics_names"
   ]
  },
  {
   "cell_type": "code",
   "execution_count": 14,
   "metadata": {},
   "outputs": [
    {
     "name": "stdout",
     "output_type": "stream",
     "text": [
      "2/2 [==============================] - 0s 1ms/step - loss: 0.3132 - accuracy: 0.9600\n"
     ]
    },
    {
     "data": {
      "text/plain": [
       "[0.3132283091545105, 0.9599999785423279]"
      ]
     },
     "execution_count": 14,
     "metadata": {},
     "output_type": "execute_result"
    }
   ],
   "source": [
    "model.evaluate(x=scaled_X_test,y=y_test)"
   ]
  },
  {
   "cell_type": "code",
   "execution_count": 15,
   "metadata": {},
   "outputs": [],
   "source": [
    "#saving the model for later usage\n",
    "model.save('myfirstmodel.h5')"
   ]
  },
  {
   "cell_type": "code",
   "execution_count": 16,
   "metadata": {},
   "outputs": [
    {
     "data": {
      "text/plain": [
       "array([[2.72369031e-02, 5.54528832e-01, 4.18234229e-01],\n",
       "       [9.75624859e-01, 2.31313575e-02, 1.24379760e-03],\n",
       "       [2.97618302e-04, 1.70314401e-01, 8.29388022e-01],\n",
       "       [1.66967753e-02, 5.06631434e-01, 4.76671815e-01],\n",
       "       [1.36488788e-02, 4.85392183e-01, 5.00958979e-01],\n",
       "       [9.60569024e-01, 3.68064679e-02, 2.62448471e-03],\n",
       "       [5.77227958e-02, 6.05688095e-01, 3.36589158e-01],\n",
       "       [1.39229093e-03, 2.72371560e-01, 7.26236105e-01],\n",
       "       [7.89148174e-03, 3.58895093e-01, 6.33213401e-01],\n",
       "       [4.22794446e-02, 5.83666444e-01, 3.74054104e-01],\n",
       "       [3.85246868e-03, 3.76388580e-01, 6.19758964e-01],\n",
       "       [9.57913578e-01, 3.89530137e-02, 3.13344132e-03],\n",
       "       [9.72872674e-01, 2.56035980e-02, 1.52383791e-03],\n",
       "       [9.62504864e-01, 3.48838903e-02, 2.61119055e-03],\n",
       "       [9.78479564e-01, 2.04177499e-02, 1.10268593e-03],\n",
       "       [1.57443322e-02, 5.45047402e-01, 4.39208180e-01],\n",
       "       [1.09987310e-03, 2.43668616e-01, 7.55231440e-01],\n",
       "       [4.67415750e-02, 5.71321905e-01, 3.81936550e-01],\n",
       "       [2.62733288e-02, 5.44203043e-01, 4.29523587e-01],\n",
       "       [1.01920601e-03, 2.23525003e-01, 7.75455832e-01],\n",
       "       [9.63662088e-01, 3.37930247e-02, 2.54493766e-03],\n",
       "       [6.56512240e-03, 4.11308676e-01, 5.82126260e-01],\n",
       "       [9.62226748e-01, 3.52363251e-02, 2.53691082e-03],\n",
       "       [1.35360530e-03, 2.45788768e-01, 7.52857625e-01],\n",
       "       [2.27701664e-03, 3.95049483e-01, 6.02673411e-01],\n",
       "       [1.20782969e-03, 2.51577467e-01, 7.47214675e-01],\n",
       "       [1.79415720e-03, 2.52093285e-01, 7.46112585e-01],\n",
       "       [9.16281191e-04, 2.45134115e-01, 7.53949642e-01],\n",
       "       [9.48402643e-01, 4.74702753e-02, 4.12704423e-03],\n",
       "       [9.59911942e-01, 3.71730551e-02, 2.91501218e-03],\n",
       "       [9.75593984e-01, 2.30178256e-02, 1.38820405e-03],\n",
       "       [9.87238705e-01, 1.22947525e-02, 4.66476398e-04],\n",
       "       [2.33478080e-02, 5.74509740e-01, 4.02142465e-01],\n",
       "       [9.70188439e-01, 2.79410109e-02, 1.87055697e-03],\n",
       "       [9.63825047e-01, 3.35818194e-02, 2.59312754e-03],\n",
       "       [2.58968631e-03, 2.77490824e-01, 7.19919443e-01],\n",
       "       [2.01818720e-02, 5.64304411e-01, 4.15513694e-01],\n",
       "       [9.73077238e-01, 2.53934246e-02, 1.52928568e-03],\n",
       "       [9.75659490e-01, 2.29992941e-02, 1.34126621e-03],\n",
       "       [9.86170292e-01, 1.32683460e-02, 5.61365334e-04],\n",
       "       [3.39805358e-03, 3.13025773e-01, 6.83576167e-01],\n",
       "       [2.33817343e-02, 5.78149796e-01, 3.98468524e-01],\n",
       "       [1.53700197e-02, 5.27604580e-01, 4.57025379e-01],\n",
       "       [9.79122996e-01, 1.98671687e-02, 1.00981200e-03],\n",
       "       [9.77921784e-01, 2.09694095e-02, 1.10891962e-03],\n",
       "       [6.15158379e-02, 5.84806859e-01, 3.53677243e-01],\n",
       "       [9.76808928e-03, 4.40964878e-01, 5.49266994e-01],\n",
       "       [4.61434806e-03, 3.87293637e-01, 6.08091950e-01],\n",
       "       [2.18310580e-02, 5.55512905e-01, 4.22656119e-01],\n",
       "       [6.65270258e-04, 2.49927834e-01, 7.49406934e-01]], dtype=float32)"
      ]
     },
     "execution_count": 16,
     "metadata": {},
     "output_type": "execute_result"
    }
   ],
   "source": [
    "# loading a model and using it as an existing one\n",
    "from keras.models import load_model\n",
    "loaded_model = load_model('myfirstmodel.h5')\n",
    "loaded_model.predict(scaled_X_test)"
   ]
  },
  {
   "cell_type": "code",
   "execution_count": 17,
   "metadata": {},
   "outputs": [
    {
     "data": {
      "text/plain": [
       "['loss', 'accuracy']"
      ]
     },
     "execution_count": 17,
     "metadata": {},
     "output_type": "execute_result"
    }
   ],
   "source": [
    "model.metrics_names"
   ]
  }
 ],
 "metadata": {
  "kernelspec": {
   "display_name": "Python 3",
   "language": "python",
   "name": "python3"
  },
  "language_info": {
   "codemirror_mode": {
    "name": "ipython",
    "version": 3
   },
   "file_extension": ".py",
   "mimetype": "text/x-python",
   "name": "python",
   "nbconvert_exporter": "python",
   "pygments_lexer": "ipython3",
   "version": "3.8.3"
  }
 },
 "nbformat": 4,
 "nbformat_minor": 4
}
